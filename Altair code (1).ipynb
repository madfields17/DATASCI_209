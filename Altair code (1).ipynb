{
 "cells": [
  {
   "cell_type": "code",
   "execution_count": 1,
   "id": "5bcd74c4",
   "metadata": {},
   "outputs": [],
   "source": [
    "import altair as alt\n",
    "alt.data_transformers.enable('json')\n",
    "import pandas as pd"
   ]
  },
  {
   "cell_type": "code",
   "execution_count": 2,
   "id": "b6c12b47",
   "metadata": {
    "scrolled": true
   },
   "outputs": [],
   "source": [
    "data1 = pd.read_csv(\"players_20.csv\")"
   ]
  },
  {
   "cell_type": "code",
   "execution_count": 3,
   "id": "c0b5715c",
   "metadata": {},
   "outputs": [],
   "source": [
    "#Calculating the average age for each nationality \n",
    "avg_age_per_nat = data1.groupby('nationality')['age'].mean().reset_index()\n",
    "\n",
    "#Calculating the number of players for each nationality\n",
    "num_players_per_nat = data1.groupby('nationality')['sofifa_id'].count().reset_index()\n",
    "\n",
    "#Merge together\n",
    "summary = pd.merge(avg_age_per_nat, num_players_per_nat, on = 'nationality', how = 'outer')\n"
   ]
  },
  {
   "cell_type": "code",
   "execution_count": 4,
   "id": "57412caf",
   "metadata": {},
   "outputs": [],
   "source": [
    "chart_id = alt.Chart(summary).mark_text().encode(\n",
    "    y= alt.Y('nationality', title = 'Nationality'), text= 'sofifa_id').properties(title = 'Number of Players By Nationality')"
   ]
  },
  {
   "cell_type": "code",
   "execution_count": 5,
   "id": "bf9e8080",
   "metadata": {},
   "outputs": [],
   "source": [
    "chart_age = alt.Chart(summary).mark_text().encode(\n",
    "    y= alt.Y('nationality'), text= alt.Text('age', format = '.1f')).properties(title = 'Average Age By Nationality')"
   ]
  },
  {
   "cell_type": "code",
   "execution_count": 6,
   "id": "88c1d1cc",
   "metadata": {},
   "outputs": [],
   "source": [
    "combined_chart = alt.hconcat(chart_id, chart_age)"
   ]
  },
  {
   "cell_type": "code",
   "execution_count": 7,
   "id": "2c7c54ff",
   "metadata": {},
   "outputs": [
    {
     "data": {
      "text/html": [
       "\n",
       "<style>\n",
       "  #altair-viz-48d343ac6f2d4e9a8c688b614db48856.vega-embed {\n",
       "    width: 100%;\n",
       "    display: flex;\n",
       "  }\n",
       "\n",
       "  #altair-viz-48d343ac6f2d4e9a8c688b614db48856.vega-embed details,\n",
       "  #altair-viz-48d343ac6f2d4e9a8c688b614db48856.vega-embed details summary {\n",
       "    position: relative;\n",
       "  }\n",
       "</style>\n",
       "<div id=\"altair-viz-48d343ac6f2d4e9a8c688b614db48856\"></div>\n",
       "<script type=\"text/javascript\">\n",
       "  var VEGA_DEBUG = (typeof VEGA_DEBUG == \"undefined\") ? {} : VEGA_DEBUG;\n",
       "  (function(spec, embedOpt){\n",
       "    let outputDiv = document.currentScript.previousElementSibling;\n",
       "    if (outputDiv.id !== \"altair-viz-48d343ac6f2d4e9a8c688b614db48856\") {\n",
       "      outputDiv = document.getElementById(\"altair-viz-48d343ac6f2d4e9a8c688b614db48856\");\n",
       "    }\n",
       "    const paths = {\n",
       "      \"vega\": \"https://cdn.jsdelivr.net/npm/vega@5?noext\",\n",
       "      \"vega-lib\": \"https://cdn.jsdelivr.net/npm/vega-lib?noext\",\n",
       "      \"vega-lite\": \"https://cdn.jsdelivr.net/npm/vega-lite@5.17.0?noext\",\n",
       "      \"vega-embed\": \"https://cdn.jsdelivr.net/npm/vega-embed@6?noext\",\n",
       "    };\n",
       "\n",
       "    function maybeLoadScript(lib, version) {\n",
       "      var key = `${lib.replace(\"-\", \"\")}_version`;\n",
       "      return (VEGA_DEBUG[key] == version) ?\n",
       "        Promise.resolve(paths[lib]) :\n",
       "        new Promise(function(resolve, reject) {\n",
       "          var s = document.createElement('script');\n",
       "          document.getElementsByTagName(\"head\")[0].appendChild(s);\n",
       "          s.async = true;\n",
       "          s.onload = () => {\n",
       "            VEGA_DEBUG[key] = version;\n",
       "            return resolve(paths[lib]);\n",
       "          };\n",
       "          s.onerror = () => reject(`Error loading script: ${paths[lib]}`);\n",
       "          s.src = paths[lib];\n",
       "        });\n",
       "    }\n",
       "\n",
       "    function showError(err) {\n",
       "      outputDiv.innerHTML = `<div class=\"error\" style=\"color:red;\">${err}</div>`;\n",
       "      throw err;\n",
       "    }\n",
       "\n",
       "    function displayChart(vegaEmbed) {\n",
       "      vegaEmbed(outputDiv, spec, embedOpt)\n",
       "        .catch(err => showError(`Javascript Error: ${err.message}<br>This usually means there's a typo in your chart specification. See the javascript console for the full traceback.`));\n",
       "    }\n",
       "\n",
       "    if(typeof define === \"function\" && define.amd) {\n",
       "      requirejs.config({paths});\n",
       "      require([\"vega-embed\"], displayChart, err => showError(`Error loading script: ${err.message}`));\n",
       "    } else {\n",
       "      maybeLoadScript(\"vega\", \"5\")\n",
       "        .then(() => maybeLoadScript(\"vega-lite\", \"5.17.0\"))\n",
       "        .then(() => maybeLoadScript(\"vega-embed\", \"6\"))\n",
       "        .catch(showError)\n",
       "        .then(() => displayChart(vegaEmbed));\n",
       "    }\n",
       "  })({\"config\": {\"view\": {\"continuousWidth\": 300, \"continuousHeight\": 300}}, \"hconcat\": [{\"mark\": {\"type\": \"text\"}, \"encoding\": {\"text\": {\"field\": \"sofifa_id\", \"type\": \"quantitative\"}, \"y\": {\"field\": \"nationality\", \"title\": \"Nationality\", \"type\": \"nominal\"}}, \"title\": \"Number of Players By Nationality\"}, {\"mark\": {\"type\": \"text\"}, \"encoding\": {\"text\": {\"field\": \"age\", \"format\": \".1f\", \"type\": \"quantitative\"}, \"y\": {\"field\": \"nationality\", \"type\": \"nominal\"}}, \"title\": \"Average Age By Nationality\"}], \"data\": {\"url\": \"altair-data-31c0887a979751e6a7ef3f5ba6f573b0.json\", \"format\": {\"type\": \"json\"}}, \"$schema\": \"https://vega.github.io/schema/vega-lite/v5.17.0.json\"}, {\"mode\": \"vega-lite\"});\n",
       "</script>"
      ],
      "text/plain": [
       "alt.HConcatChart(...)"
      ]
     },
     "metadata": {},
     "output_type": "display_data"
    }
   ],
   "source": [
    "combined_chart.show()"
   ]
  },
  {
   "cell_type": "markdown",
   "id": "c42afd97",
   "metadata": {},
   "source": []
  }
 ],
 "metadata": {
  "kernelspec": {
   "display_name": "Python 3 (ipykernel)",
   "language": "python",
   "name": "python3"
  },
  "language_info": {
   "codemirror_mode": {
    "name": "ipython",
    "version": 3
   },
   "file_extension": ".py",
   "mimetype": "text/x-python",
   "name": "python",
   "nbconvert_exporter": "python",
   "pygments_lexer": "ipython3",
   "version": "3.11.4"
  }
 },
 "nbformat": 4,
 "nbformat_minor": 5
}
